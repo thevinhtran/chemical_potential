{
 "cells": [
  {
   "cell_type": "markdown",
   "id": "ba13e78d",
   "metadata": {},
   "source": [
    "### Chemical Potential Attempt 2"
   ]
  },
  {
   "cell_type": "markdown",
   "id": "1e7018c6",
   "metadata": {},
   "source": [
    "### Background\n",
    "1. From Gusakov, the general equations in the $\\sigma-\\omega-\\rho$ model, we have the chemical potential given by\n",
    "$$\n",
    "    \\mu_i = g_{\\omega i}\\omega^0 + g_{\\rho i} I_{3i} \\rho_3^0 + \\sqrt{p_{fi}^2 + (m_i - g_{\\sigma i}\\sigma)^2}\n",
    "$$\n",
    "where the $g_{\\omega i}, g_{\\rho i}, g_{\\sigma i}$ are the coupling constants that couple the baryons to the mesons.\n",
    "2. From this, we see that we have dependence on individial number density via $p_{fi}$ as well as overall baryon number density $n_B$ via $g_{\\sigma i}\\sigma$ where\n",
    "$$\n",
    "    p_{fi}^2 = \\left(3\\pi^2 n_i\\right)^{2/3}\n",
    "$$\n",
    "\n",
    "3. To make progress, we need to include the two relations of Baryon number conservation and charge conservation which gives us two constraints\n",
    "$$\n",
    "    n_B = \\sum_i n_i \\qquad i = n, p ,\\Lambda\\\\\n",
    "    n_p = n_e \\qquad (+ n_\\mu) \n",
    "$$\n",
    "4. After we get $\\mu_i(n_i,n_B)$ we can then calculate the relevant partial derivatives.\n",
    "5. Then, we insert into the system of equations...\n",
    "6. "
   ]
  },
  {
   "cell_type": "code",
   "execution_count": 1,
   "id": "accceefe",
   "metadata": {},
   "outputs": [],
   "source": [
    "import numpy as np\n",
    "import pandas as pd\n",
    "import matplotlib.pyplot as plt\n",
    "\n",
    "def sqrt(n):\n",
    "    return np.sqrt(n)\n",
    "\n",
    "def log(n):\n",
    "    return np.log(n)\n",
    "\n",
    "pi = np.pi "
   ]
  },
  {
   "cell_type": "code",
   "execution_count": 4,
   "id": "c55b794f",
   "metadata": {},
   "outputs": [],
   "source": [
    "class baryon:\n",
    "    def __init__(self, mass, isospin, charge, density):\n",
    "        self.mass = mass\n",
    "        self.isospin = isospin \n",
    "        self.charge = charge \n",
    "        self.pf = (3*pi**2*density)**(1/3)\n",
    "        self.eff_mass = 'NaN'\n",
    "        self.density = density \n",
    "        \n",
    "    \n",
    "class lepton:\n",
    "    def __init__(self, mass, density):\n",
    "        self.mass = mass \n",
    "        self.density = density\n",
    "        self.pf = (3*pi**2*density)**(1/3)\n",
    "\n",
    "class meson:\n",
    "    def __init__(self, mass)\n",
    "        self.mass = mass \n",
    "        \n",
    "class eos:\n",
    "    def __init__(self):\n",
    "        self.g_sigma = []\n",
    "        self.g_omega = []\n",
    "        self.g_rho = [] "
   ]
  },
  {
   "cell_type": "code",
   "execution_count": 8,
   "id": "02e2174c",
   "metadata": {},
   "outputs": [],
   "source": [
    "proton = baryon(939.5, -1/2, 1, 0.5)\n",
    "neutron = baryon(939.5, -1/2, 1, 0.5)\n",
    "\n",
    "electron = lepton(0.511, 0.5)\n",
    "#muon = lepton(stuff)\n",
    "\n",
    "sigma = meson\n",
    "omega = meson\n",
    "rho = meson \n"
   ]
  },
  {
   "cell_type": "code",
   "execution_count": 9,
   "id": "65b9e2f2",
   "metadata": {},
   "outputs": [],
   "source": [
    "A_list = [proton, neutron, electron]"
   ]
  },
  {
   "cell_type": "code",
   "execution_count": 11,
   "id": "a71db8f0",
   "metadata": {},
   "outputs": [
    {
     "data": {
      "text/plain": [
       "0.511"
      ]
     },
     "execution_count": 11,
     "metadata": {},
     "output_type": "execute_result"
    }
   ],
   "source": [
    "A_list[2].mass"
   ]
  },
  {
   "cell_type": "code",
   "execution_count": null,
   "id": "2e7533b5",
   "metadata": {},
   "outputs": [],
   "source": [
    "def sigma(nb):\n",
    "    # calculates sigma field as a function of nb"
   ]
  },
  {
   "cell_type": "code",
   "execution_count": null,
   "id": "25feb978",
   "metadata": {},
   "outputs": [],
   "source": [
    "def omega_0(nb):\n",
    "    # calculates "
   ]
  }
 ],
 "metadata": {
  "kernelspec": {
   "display_name": "Python 3",
   "language": "python",
   "name": "python3"
  },
  "language_info": {
   "codemirror_mode": {
    "name": "ipython",
    "version": 3
   },
   "file_extension": ".py",
   "mimetype": "text/x-python",
   "name": "python",
   "nbconvert_exporter": "python",
   "pygments_lexer": "ipython3",
   "version": "3.8.8"
  }
 },
 "nbformat": 4,
 "nbformat_minor": 5
}
